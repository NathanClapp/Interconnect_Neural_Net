{
 "metadata": {
  "language_info": {
   "codemirror_mode": {
    "name": "ipython",
    "version": 3
   },
   "file_extension": ".py",
   "mimetype": "text/x-python",
   "name": "python",
   "nbconvert_exporter": "python",
   "pygments_lexer": "ipython3",
   "version": "3.8.3-final"
  },
  "orig_nbformat": 2,
  "kernelspec": {
   "name": "python3",
   "display_name": "Python 3",
   "language": "python"
  }
 },
 "nbformat": 4,
 "nbformat_minor": 2,
 "cells": [
  {
   "cell_type": "code",
   "execution_count": 2,
   "metadata": {},
   "outputs": [],
   "source": [
    "#Goals:\n",
    "#test usability of custom Python functions in tf.Operator\n",
    "    #outcome: technically yes, but limited - tensorflow uses py functions statically\n",
    "    #seems unsuitable for udp\n",
    "#are Python library methods allowed?\n",
    "    #also yes, practically no\n",
    "#what about runtimes from other languages?\n",
    "    #not tested yet, probably same as python if wrapped into py lib\n",
    "#what about arbitrary runtimes?\n",
    "    #seems ok so far, need to actively test docker runtime and see if tf graph will work with modded udp layer\n",
    "\n",
    "#need some kind of clock function to keep everything synchronous"
   ]
  },
  {
   "cell_type": "code",
   "execution_count": 2,
   "metadata": {},
   "outputs": [],
   "source": [
    "import tensorflow as tf\n",
    "from tensorflow.keras import Model, activations, initializers\n",
    "from tensorflow.keras.layers import Dense, Input\n",
    "from multiprocessing import Process\n",
    "import numpy as np\n",
    "import time\n",
    "import socket, sys\n",
    "from sympy import *"
   ]
  },
  {
   "cell_type": "code",
   "execution_count": 3,
   "metadata": {},
   "outputs": [
    {
     "output_type": "execute_result",
     "data": {
      "text/plain": [
       "'2.3.1'"
      ]
     },
     "metadata": {},
     "execution_count": 3
    }
   ],
   "source": [
    "tf.executing_eagerly()\n",
    "tf.__version__"
   ]
  },
  {
   "cell_type": "code",
   "execution_count": 5,
   "metadata": {},
   "outputs": [
    {
     "output_type": "stream",
     "name": "stdout",
     "text": [
      "1\n"
     ]
    }
   ],
   "source": [
    "#making a tf function:\n",
    "@tf.function\n",
    "def xor(x,y):\n",
    "    return x ^ y\n",
    "tf.print(xor(0,1))"
   ]
  },
  {
   "cell_type": "code",
   "execution_count": 6,
   "metadata": {},
   "outputs": [
    {
     "output_type": "stream",
     "name": "stdout",
     "text": [
      "1.4142135623730951\n"
     ]
    }
   ],
   "source": [
    "#with a library:\n",
    "#example from sympy documentation\n",
    "#link\n",
    "#https://docs.sympy.org/latest/tutorial/basic_operations.html\n",
    "\n",
    "@tf.function\n",
    "def floating_point_sqrt(x):\n",
    "    expr = sqrt(x)\n",
    "    return tf.convert_to_tensor(value=expr.evalf(), dtype=tf.float64)\n",
    "tf.print(floating_point_sqrt(2))"
   ]
  },
  {
   "cell_type": "code",
   "execution_count": null,
   "metadata": {},
   "outputs": [],
   "source": []
  },
  {
   "cell_type": "code",
   "execution_count": 1,
   "metadata": {},
   "outputs": [],
   "source": [
    "#arbitrary runtimes\n",
    "#using docker container\n",
    "#map post-activation (binary step function, relu, or leaky relu) data values to individual functions\n",
    "#1 function per container\n",
    "#alpine container\n",
    "#put all containers into a tensorflow function\n",
    "#tensorflow function implements port mapping\n",
    "#docker container reads from ports, processes, and returns data\n",
    "\n",
    "#assume the containers are already running"
   ]
  },
  {
   "cell_type": "code",
   "execution_count": 38,
   "metadata": {},
   "outputs": [
    {
     "output_type": "execute_result",
     "data": {
      "text/plain": [
       "0"
      ]
     },
     "metadata": {},
     "execution_count": 38
    }
   ],
   "source": [
    "#use tensorflow layer as client, container as server\n",
    "\n",
    "#make function able to send any piece of a tensor to a port\n",
    "#run data transmissions (tensor elements -> container) in parallel\n",
    "    #get tensor, split up into pieces\n",
    "    #process for each thread: send to container, given socket, data point, host and port\n",
    "\n",
    "def send_to_container(pre_activation_tensor, ports_list, host):\n",
    "    #test tensor for checking dtype\n",
    "    string_tensor = tf.constant(\"samplestring\")\n",
    "    # create dgram udp socket\n",
    "    try:\n",
    "        s = socket.socket(socket.AF_INET, socket.SOCK_DGRAM)\n",
    "    except socket.error:\n",
    "\t    print('Failed to create socket')\n",
    "\t    sys.exit()\n",
    "\n",
    "    #add exception to avoid nested strings\n",
    "    if pre_activation_tensor.dtype == string_tensor.dtype:\n",
    "        msg = tf.get_static_value(pre_activation_tensor)\n",
    "    else:\n",
    "        msg = str.encode(str(tf.get_static_value(pre_activation_tensor)))\n",
    "\n",
    "    for port in ports_list:\n",
    "        s.sendto(msg, (host, port))\n",
    "    return 0\n",
    "\n",
    "#not yet compatible with strings - would need character encoding/decoding on front end\n",
    "#send_to_container(pre_activation_tensor=tf.constant(\"bruh\"), ports_list=[50007], host='localhost')\n",
    "send_to_container(pre_activation_tensor=tf.constant([1,2,1,4]), ports_list=[1234], host='localhost')"
   ]
  },
  {
   "cell_type": "code",
   "execution_count": 12,
   "metadata": {},
   "outputs": [],
   "source": [
    "#Use UDP client in custom Keras layer\n",
    "#Code modified from reference: https://keras.io/guides/making_new_layers_and_models_via_subclassing/\n",
    "\n",
    "class Linear_Binary_UDP(tf.keras.layers.Layer):\n",
    "    def __init__(self, units=32, input_dim=32):\n",
    "        super(Linear, self).__init__()\n",
    "        #start with all the connections on\n",
    "        w_init = initializers.Ones()\n",
    "        self.w = tf.Variable(\n",
    "            initial_value=w_init(shape=(input_dim, units), dtype=\"float32\"),\n",
    "            trainable=True,\n",
    "        )\n",
    "        b_init = initializers.Zeros()\n",
    "        self.b = tf.Variable(\n",
    "            initial_value=b_init(shape=(units,), dtype=\"float32\"), trainable=True\n",
    "        )\n",
    "\n",
    "#include activation functions, but after layer return\n",
    "#worry about activations when building network on Keras\n",
    "#may need separate activation layers (see keras docs)\n",
    "    def call(self, inputs):\n",
    "        tf.matmul(inputs, self.w) + self.b\n",
    "        #workspot - put \n",
    "        return \n"
   ]
  },
  {
   "cell_type": "code",
   "execution_count": 36,
   "metadata": {},
   "outputs": [
    {
     "output_type": "stream",
     "name": "stdout",
     "text": [
      "<class 'bytes'>\nTrue\n<dtype: 'string'>\n<dtype: 'string'>\n<dtype: 'string'>\n<class 'tensorflow.python.framework.ops.EagerTensor'>\n"
     ]
    }
   ],
   "source": [
    "generic_tensor = tf.constant(\"bruh\")\n",
    "generic_number_tensor = tf.constant([1,2,3,4])\n",
    "print(type(tf.get_static_value(generic_tensor)))\n",
    "\n",
    "string_tensor = tf.constant(\"test string\")\n",
    "bytes_tensor = tf.constant(b'bruh')\n",
    "\n",
    "print((generic_tensor.dtype) == (string_tensor.dtype))\n",
    "print(generic_tensor.dtype)\n",
    "print(string_tensor.dtype)\n",
    "print(bytes_tensor.dtype)\n",
    "print(type(generic_number_tensor))"
   ]
  },
  {
   "cell_type": "code",
   "execution_count": 3,
   "metadata": {},
   "outputs": [
    {
     "output_type": "stream",
     "name": "stdout",
     "text": [
      "Model: \"functional_3\"\n_________________________________________________________________\nLayer (type)                 Output Shape              Param #   \n=================================================================\ninput_2 (InputLayer)         [(None, 4)]               0         \n_________________________________________________________________\ndense_5 (Dense)              (None, 16)                80        \n_________________________________________________________________\ndense_6 (Dense)              (None, 16)                272       \n_________________________________________________________________\ndense_7 (Dense)              (None, 16)                272       \n_________________________________________________________________\ndense_8 (Dense)              (None, 16)                272       \n_________________________________________________________________\ndense_9 (Dense)              (None, 1)                 17        \n=================================================================\nTotal params: 913\nTrainable params: 913\nNon-trainable params: 0\n_________________________________________________________________\n"
     ]
    }
   ],
   "source": [
    "#standard dense feedforward netowrk\n",
    "input_layer = Input(shape=(4,))\n",
    "\n",
    "linear1 = Dense(16,activation='sigmoid')(input_layer)\n",
    "linear2 = Dense(16,activation='sigmoid')(linear1)\n",
    "linear3 = Dense(16,activation='sigmoid')(linear2)\n",
    "linear4 = Dense(16,activation='sigmoid')(linear3)\n",
    "\n",
    "output = Dense(1,activation='sigmoid')(linear4)\n",
    "\n",
    "dense_model = tf.keras.Model(inputs=input_layer, outputs=output)\n",
    "dense_model.summary()"
   ]
  },
  {
   "cell_type": "code",
   "execution_count": 2,
   "metadata": {},
   "outputs": [
    {
     "output_type": "stream",
     "name": "stdout",
     "text": [
      "Model: \"functional_1\"\n__________________________________________________________________________________________________\nLayer (type)                    Output Shape         Param #     Connected to                     \n==================================================================================================\ninput_1 (InputLayer)            [(None, 4)]          0                                            \n__________________________________________________________________________________________________\ndense (Dense)                   (None, 16)           80          input_1[0][0]                    \n__________________________________________________________________________________________________\ndense_1 (Dense)                 (None, 16)           272         dense[0][0]                      \n__________________________________________________________________________________________________\ndense_2 (Dense)                 (None, 16)           272         dense_1[0][0]                    \n__________________________________________________________________________________________________\ndense_3 (Dense)                 (None, 16)           272         dense_2[0][0]                    \n__________________________________________________________________________________________________\nconcatenate (Concatenate)       (None, 68)           0           input_1[0][0]                    \n                                                                 dense[0][0]                      \n                                                                 dense_1[0][0]                    \n                                                                 dense_2[0][0]                    \n                                                                 dense_3[0][0]                    \n__________________________________________________________________________________________________\ndense_4 (Dense)                 (None, 1)            69          concatenate[0][0]                \n==================================================================================================\nTotal params: 965\nTrainable params: 965\nNon-trainable params: 0\n__________________________________________________________________________________________________\n"
     ]
    }
   ],
   "source": [
    "#feedforward network with concatenation\n",
    "input_layer = Input(shape=(4,))\n",
    "\n",
    "linear1 = Dense(16,activation='sigmoid')(input_layer)\n",
    "linear2 = Dense(16,activation='sigmoid')(linear1)\n",
    "linear3 = Dense(16,activation='sigmoid')(linear2)\n",
    "linear4 = Dense(16,activation='sigmoid')(linear3)\n",
    "\n",
    "#layers also map straight from each sequential layer to the output\n",
    "concatenate = tf.keras.layers.Concatenate()([input_layer, linear1, linear2, linear3, linear4])\n",
    "output = Dense(1,activation='sigmoid')(concatenate)\n",
    "\n",
    "dag_model = tf.keras.Model(inputs=input_layer, outputs=output)\n",
    "dag_model.summary()"
   ]
  },
  {
   "cell_type": "code",
   "execution_count": null,
   "metadata": {},
   "outputs": [],
   "source": []
  }
 ]
}