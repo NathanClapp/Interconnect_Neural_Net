{
 "metadata": {
  "language_info": {
   "codemirror_mode": {
    "name": "ipython",
    "version": 3
   },
   "file_extension": ".py",
   "mimetype": "text/x-python",
   "name": "python",
   "nbconvert_exporter": "python",
   "pygments_lexer": "ipython3",
   "version": "3.8.3-final"
  },
  "orig_nbformat": 2,
  "kernelspec": {
   "name": "python3",
   "display_name": "Python 3",
   "language": "python"
  }
 },
 "nbformat": 4,
 "nbformat_minor": 2,
 "cells": [
  {
   "cell_type": "code",
   "execution_count": null,
   "metadata": {},
   "outputs": [],
   "source": [
    "#Goals:\n",
    "#test usability of custom Python functions in tf.Operator\n",
    "#are Python library methods allowed?\n",
    "#what about runtimes from other languages?\n",
    "#what about arbitrary runtimes?"
   ]
  },
  {
   "cell_type": "code",
   "execution_count": 14,
   "metadata": {},
   "outputs": [],
   "source": [
    "import tensorflow as tf\n",
    "import socket, sys\n",
    "from sympy import *"
   ]
  },
  {
   "cell_type": "code",
   "execution_count": 5,
   "metadata": {},
   "outputs": [
    {
     "output_type": "stream",
     "name": "stdout",
     "text": [
      "0\n"
     ]
    }
   ],
   "source": [
    "#making a tf function:\n",
    "@tf.function\n",
    "def xor(x,y):\n",
    "    return x ^ y\n",
    "tf.print(xor(0,1))"
   ]
  },
  {
   "cell_type": "code",
   "execution_count": 11,
   "metadata": {},
   "outputs": [
    {
     "output_type": "stream",
     "name": "stdout",
     "text": [
      "2.8284271247461903\n"
     ]
    }
   ],
   "source": [
    "#with a library:\n",
    "#example from sympy documentation\n",
    "#link\n",
    "#https://docs.sympy.org/latest/tutorial/basic_operations.html\n",
    "\n",
    "@tf.function\n",
    "def floating_point_sqrt(x):\n",
    "    expr = sqrt(8)\n",
    "    return tf.convert_to_tensor(value=expr.evalf(), dtype=tf.float64)\n",
    "tf.print(floating_point_sqrt(7))"
   ]
  },
  {
   "cell_type": "code",
   "execution_count": 12,
   "metadata": {},
   "outputs": [],
   "source": [
    "#arbitrary runtimes\n",
    "#using docker container\n",
    "#map post-activation (binary step function, relu, or leaky relu) data values to individual functions\n",
    "#1 function per container\n",
    "#alpine container\n",
    "#put all containers into a tensorflow function\n",
    "#tensorflow function implements port mapping\n",
    "#docker container reads from ports, processes, and returns data\n",
    "\n",
    "#assume the containers are already running"
   ]
  },
  {
   "cell_type": "code",
   "execution_count": null,
   "metadata": {},
   "outputs": [],
   "source": [
    "#use tensorflow layer as client, container as server\n",
    "@tf.function\n",
    "def send_to_container(post_activation_tensor, port, host = 'localhost'):\n",
    "    # create dgram udp socket\n",
    "    try:\n",
    "\t    s = socket.socket(socket.AF_INET, socket.SOCK_DGRAM)\n",
    "    except socket.error:\n",
    "\t    print('Failed to create socket')\n",
    "\t    sys.exit()\n",
    "\n",
    "    while(1):\n",
    "\t    msg = str.encode(input('Enter message to send : '))\n",
    "\t\n",
    "\t    if msg:\n",
    "            #Send the whole string\n",
    "\t        s.sendto(msg, (host, port))\n",
    "\n"
   ]
  },
  {
   "cell_type": "code",
   "execution_count": null,
   "metadata": {},
   "outputs": [],
   "source": []
  }
 ]
}