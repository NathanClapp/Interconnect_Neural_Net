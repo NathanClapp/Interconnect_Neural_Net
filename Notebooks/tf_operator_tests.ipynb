{
 "metadata": {
  "language_info": {
   "codemirror_mode": {
    "name": "ipython",
    "version": 3
   },
   "file_extension": ".py",
   "mimetype": "text/x-python",
   "name": "python",
   "nbconvert_exporter": "python",
   "pygments_lexer": "ipython3",
   "version": "3.8.3-final"
  },
  "orig_nbformat": 2,
  "kernelspec": {
   "name": "python3",
   "display_name": "Python 3",
   "language": "python"
  }
 },
 "nbformat": 4,
 "nbformat_minor": 2,
 "cells": [
  {
   "cell_type": "code",
   "execution_count": 1,
   "metadata": {},
   "outputs": [],
   "source": [
    "#Goals:\n",
    "#test usability of custom Python functions in tf.Operator\n",
    "#are Python library methods allowed?\n",
    "#what about runtimes from other languages?\n",
    "#what about arbitrary runtimes?"
   ]
  },
  {
   "cell_type": "code",
   "execution_count": 2,
   "metadata": {},
   "outputs": [],
   "source": [
    "import tensorflow as tf\n",
    "from multiprocessing import Process\n",
    "import numpy as np\n",
    "import time\n",
    "import socket, sys\n",
    "from sympy import *"
   ]
  },
  {
   "cell_type": "code",
   "execution_count": 3,
   "metadata": {},
   "outputs": [
    {
     "output_type": "execute_result",
     "data": {
      "text/plain": [
       "True"
      ]
     },
     "metadata": {},
     "execution_count": 3
    }
   ],
   "source": [
    "tf.executing_eagerly()"
   ]
  },
  {
   "cell_type": "code",
   "execution_count": 4,
   "metadata": {},
   "outputs": [
    {
     "output_type": "stream",
     "name": "stdout",
     "text": [
      "1\n"
     ]
    }
   ],
   "source": [
    "#making a tf function:\n",
    "@tf.function\n",
    "def xor(x,y):\n",
    "    return x ^ y\n",
    "tf.print(xor(0,1))"
   ]
  },
  {
   "cell_type": "code",
   "execution_count": 5,
   "metadata": {},
   "outputs": [
    {
     "output_type": "stream",
     "name": "stdout",
     "text": [
      "2.8284271247461903\n"
     ]
    }
   ],
   "source": [
    "#with a library:\n",
    "#example from sympy documentation\n",
    "#link\n",
    "#https://docs.sympy.org/latest/tutorial/basic_operations.html\n",
    "\n",
    "@tf.function\n",
    "def floating_point_sqrt(x):\n",
    "    expr = sqrt(8)\n",
    "    return tf.convert_to_tensor(value=expr.evalf(), dtype=tf.float64)\n",
    "tf.print(floating_point_sqrt(7))"
   ]
  },
  {
   "cell_type": "code",
   "execution_count": 6,
   "metadata": {},
   "outputs": [],
   "source": [
    "#arbitrary runtimes\n",
    "#using docker container\n",
    "#map post-activation (binary step function, relu, or leaky relu) data values to individual functions\n",
    "#1 function per container\n",
    "#alpine container\n",
    "#put all containers into a tensorflow function\n",
    "#tensorflow function implements port mapping\n",
    "#docker container reads from ports, processes, and returns data\n",
    "\n",
    "#assume the containers are already running"
   ]
  },
  {
   "cell_type": "code",
   "execution_count": 8,
   "metadata": {},
   "outputs": [
    {
     "output_type": "execute_result",
     "data": {
      "text/plain": [
       "0"
      ]
     },
     "metadata": {},
     "execution_count": 8
    }
   ],
   "source": [
    "#use tensorflow layer as client, container as server\n",
    "\n",
    "#make function able to send any piece of a tensor to a port\n",
    "#run data transmissions (tensor elements -> container) in parallel\n",
    "    #get tensor, split up into pieces\n",
    "    #process for each thread: send to container, given socket, data point, host and port\n",
    "\n",
    "def send_udp(socket_object, msg, recipient_tuple):\n",
    "    socket_object.sendto(msg, recipient_tuple)\n",
    "    return 0\n",
    "\n",
    "def send_to_container(post_activation_tensor, ports_list, host):\n",
    "    #test tensor for checking dtype\n",
    "    string_tensor = tf.constant(\"test string\")\n",
    "    # create dgram udp socket\n",
    "    try:\n",
    "        s = socket.socket(socket.AF_INET, socket.SOCK_DGRAM)\n",
    "    except socket.error:\n",
    "\t    print('Failed to create socket')\n",
    "\t    sys.exit()\n",
    "\n",
    "    #add exception to curb mismatched datatypes in tensor\n",
    "    if post_activation_tensor.dtype == string_tensor.dtype:\n",
    "        msg = tf.get_static_value(post_activation_tensor)\n",
    "    else:\n",
    "        msg = str.encode(str(tf.get_static_value(post_activation_tensor)))\n",
    "\n",
    "    for port in ports_list:\n",
    "        s.sendto(msg, (host, port))\n",
    "    return 0\n",
    "\n",
    "send_to_container(post_activation_tensor=tf.constant(\"bruh\"), ports_list=[50007], host='localhost')\n",
    "time.sleep(2)\n",
    "send_to_container(post_activation_tensor=tf.constant([1,2,1,4]), ports_list=[50007], host='localhost')"
   ]
  },
  {
   "cell_type": "code",
   "execution_count": null,
   "metadata": {},
   "outputs": [],
   "source": []
  },
  {
   "cell_type": "code",
   "execution_count": 36,
   "metadata": {},
   "outputs": [
    {
     "output_type": "stream",
     "name": "stdout",
     "text": [
      "<class 'bytes'>\nTrue\n<dtype: 'string'>\n<dtype: 'string'>\n<dtype: 'string'>\n<class 'tensorflow.python.framework.ops.EagerTensor'>\n"
     ]
    }
   ],
   "source": [
    "generic_tensor = tf.constant(\"bruh\")\n",
    "generic_number_tensor = tf.constant([1,2,3,4])\n",
    "print(type(tf.get_static_value(generic_tensor)))\n",
    "\n",
    "string_tensor = tf.constant(\"test string\")\n",
    "bytes_tensor = tf.constant(b'bruh')\n",
    "\n",
    "print((generic_tensor.dtype) == (string_tensor.dtype))\n",
    "print(generic_tensor.dtype)\n",
    "print(string_tensor.dtype)\n",
    "print(bytes_tensor.dtype)\n",
    "print(type(generic_number_tensor))"
   ]
  },
  {
   "cell_type": "code",
   "execution_count": 13,
   "metadata": {},
   "outputs": [
    {
     "output_type": "stream",
     "name": "stdout",
     "text": [
      "<class 'str'>\n"
     ]
    }
   ],
   "source": [
    "print(type('string'))"
   ]
  },
  {
   "cell_type": "code",
   "execution_count": 1,
   "metadata": {},
   "outputs": [
    {
     "output_type": "error",
     "ename": "NameError",
     "evalue": "name 'tf' is not defined",
     "traceback": [
      "\u001b[0;31m---------------------------------------------------------------------------\u001b[0m",
      "\u001b[0;31mNameError\u001b[0m                                 Traceback (most recent call last)",
      "\u001b[0;32m<ipython-input-1-cbde16dec9b7>\u001b[0m in \u001b[0;36m<module>\u001b[0;34m\u001b[0m\n\u001b[0;32m----> 1\u001b[0;31m \u001b[0mtf\u001b[0m\u001b[0;34m.\u001b[0m\u001b[0mTensor\u001b[0m\u001b[0;34m(\u001b[0m\u001b[0;34m[\u001b[0m\u001b[0;36m1\u001b[0m\u001b[0;34m,\u001b[0m\u001b[0;36m1\u001b[0m\u001b[0;34m,\u001b[0m\u001b[0;36m1\u001b[0m\u001b[0;34m]\u001b[0m\u001b[0;34m)\u001b[0m\u001b[0;34m\u001b[0m\u001b[0;34m\u001b[0m\u001b[0m\n\u001b[0m",
      "\u001b[0;31mNameError\u001b[0m: name 'tf' is not defined"
     ]
    }
   ],
   "source": [
    "tf.Tensor([1,1,1])"
   ]
  },
  {
   "cell_type": "code",
   "execution_count": null,
   "metadata": {},
   "outputs": [],
   "source": []
  }
 ]
}